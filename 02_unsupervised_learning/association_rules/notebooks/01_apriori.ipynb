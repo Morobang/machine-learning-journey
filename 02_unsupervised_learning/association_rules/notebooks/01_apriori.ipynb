{
  "cells": [
    {
      "cell_type": "markdown",
      "metadata": {
        "colab_type": "text",
        "id": "1fziHl7Ar94J"
      },
      "source": [
        "# Apriori Algorithm - Association Rule Learning\n",
        "\n",
        "## What is Association Rule Learning?\n",
        "\n",
        "Association Rule Learning is a machine learning technique that identifies frequent patterns and relationships between different items in large datasets. It's particularly useful in market basket analysis, where we want to discover which products are frequently bought together.\n",
        "\n",
        "## What is the Apriori Algorithm?\n",
        "\n",
        "The Apriori algorithm is one of the most popular algorithms for association rule learning. It works by:\n",
        "\n",
        "1. **Finding frequent itemsets**: Identifying groups of items that appear together frequently\n",
        "2. **Generating association rules**: Creating rules that show relationships between items\n",
        "3. **Filtering by metrics**: Using support, confidence, and lift to find meaningful rules\n",
        "\n",
        "## Key Concepts:\n",
        "\n",
        "- **Support**: How frequently an itemset appears in the dataset\n",
        "- **Confidence**: How often rule A → B is true when A is present\n",
        "- **Lift**: How much more likely B is to be bought when A is bought (compared to B's general popularity)\n",
        "\n",
        "## Business Application:\n",
        "\n",
        "In this example, we'll analyze market basket data to discover:\n",
        "- Which products are frequently bought together\n",
        "- Recommendations for product placement\n",
        "- Cross-selling opportunities\n",
        "- Customer behavior patterns"
      ]
    },
    {
      "cell_type": "markdown",
      "metadata": {
        "colab_type": "text",
        "id": "eiNwni1xsEgT"
      },
      "source": [
        "## Step 1: Importing the Required Libraries\n",
        "\n",
        "Before we start, we need to import the necessary libraries:\n",
        "\n",
        "- **numpy**: For numerical operations and array handling\n",
        "- **matplotlib.pyplot**: For creating visualizations (though we won't use it extensively in this example)\n",
        "- **pandas**: For data manipulation and analysis\n",
        "- **apyori**: The library that implements the Apriori algorithm\n",
        "\n",
        "**Note**: The apyori library is not installed by default, so we'll need to install it first."
      ]
    },
    {
      "cell_type": "code",
      "execution_count": 0,
      "metadata": {
        "colab": {
          "base_uri": "https://localhost:8080/",
          "height": 34
        },
        "colab_type": "code",
        "id": "DUF77Qr1vqyM",
        "outputId": "c4c2d702-9e4b-414c-bb3e-caa543b487f0"
      },
      "outputs": [
        {
          "name": "stdout",
          "output_type": "stream",
          "text": [
            "Requirement already satisfied: apyori in /usr/local/lib/python3.6/dist-packages (1.1.2)\n"
          ]
        }
      ],
      "source": [
        "!pip install apyori"
      ]
    },
    {
      "cell_type": "markdown",
      "metadata": {},
      "source": [
        "### Installing the Apyori Library\n",
        "\n",
        "The apyori library contains the implementation of the Apriori algorithm. We install it using pip:"
      ]
    },
    {
      "cell_type": "code",
      "execution_count": 0,
      "metadata": {
        "colab": {},
        "colab_type": "code",
        "id": "UJfitBClsJlT"
      },
      "outputs": [],
      "source": [
        "import numpy as np\n",
        "import matplotlib.pyplot as plt\n",
        "import pandas as pd"
      ]
    },
    {
      "cell_type": "markdown",
      "metadata": {},
      "source": [
        "### Importing Standard Libraries\n",
        "\n",
        "Now let's import our standard data science libraries:"
      ]
    },
    {
      "cell_type": "markdown",
      "metadata": {
        "colab_type": "text",
        "id": "vLt-7XUKsXBd"
      },
      "source": [
        "## Step 2: Data Preprocessing\n",
        "\n",
        "In this step, we'll load and prepare our market basket data for the Apriori algorithm.\n",
        "\n",
        "### Understanding Market Basket Data\n",
        "\n",
        "Market basket data typically consists of transactions where each row represents a shopping basket, and each column represents a different product that might be in that basket. Our dataset contains 7,501 transactions with up to 20 different products per transaction.\n",
        "\n",
        "### Data Structure Transformation\n",
        "\n",
        "The Apriori algorithm expects data in a specific format:\n",
        "- Each transaction should be a list of items\n",
        "- We need to convert our CSV data into a list of transactions\n",
        "- Each transaction will contain the products bought together\n",
        "\n",
        "Let's load and transform our data:"
      ]
    },
    {
      "cell_type": "code",
      "execution_count": 0,
      "metadata": {
        "colab": {},
        "colab_type": "code",
        "id": "J_A-UFOAsaDf"
      },
      "outputs": [],
      "source": [
        "dataset = pd.read_csv('Market_Basket_Optimisation.csv', header = None)\n",
        "transactions = []\n",
        "for i in range(0, 7501):\n",
        "  transactions.append([str(dataset.values[i,j]) for j in range(0, 20)])"
      ]
    },
    {
      "cell_type": "code",
      "execution_count": null,
      "metadata": {},
      "outputs": [],
      "source": [
        "# Let's first examine our dataset structure\n",
        "print(\"Dataset shape:\", dataset.shape)\n",
        "print(\"\\nFirst few rows of the dataset:\")\n",
        "print(dataset.head())\n",
        "print(\"\\nSample transaction (first row):\")\n",
        "print([item for item in dataset.iloc[0] if pd.notna(item)])"
      ]
    },
    {
      "cell_type": "markdown",
      "metadata": {},
      "source": [
        "### Converting Data to Transaction Format\n",
        "\n",
        "Now let's convert our data into the format required by the Apriori algorithm. We need to:\n",
        "1. Remove empty/null values from each transaction\n",
        "2. Convert each row into a list of items\n",
        "3. Store all transactions in a list"
      ]
    },
    {
      "cell_type": "code",
      "execution_count": null,
      "metadata": {},
      "outputs": [],
      "source": [
        "# Convert the data into transaction format\n",
        "transactions = []\n",
        "for i in range(0, len(dataset)):\n",
        "    # Get all non-null items from the current row\n",
        "    transaction = [str(dataset.values[i,j]) for j in range(0, dataset.shape[1]) if str(dataset.values[i,j]) != 'nan']\n",
        "    if transaction:  # Only add non-empty transactions\n",
        "        transactions.append(transaction)\n",
        "\n",
        "print(f\"Total number of transactions: {len(transactions)}\")\n",
        "print(f\"Sample transactions:\")\n",
        "for i in range(3):\n",
        "    print(f\"Transaction {i+1}: {transactions[i]}\")\n",
        "    \n",
        "print(f\"\\nAverage items per transaction: {sum(len(t) for t in transactions)/len(transactions):.2f}\")"
      ]
    },
    {
      "cell_type": "markdown",
      "metadata": {
        "colab_type": "text",
        "id": "1wYZdBd5sea_"
      },
      "source": [
        "## Step 3: Training the Apriori Algorithm\n",
        "\n",
        "Now we'll apply the Apriori algorithm to find association rules in our market basket data.\n",
        "\n",
        "### Understanding the Parameters\n",
        "\n",
        "The Apriori algorithm uses several important parameters:\n",
        "\n",
        "1. **min_support**: The minimum support threshold\n",
        "   - Support = (Number of transactions containing the itemset) / (Total transactions)\n",
        "   - We set it to 0.003, meaning an itemset must appear in at least 0.3% of transactions\n",
        "   - For 7,501 transactions, this means at least ~23 transactions\n",
        "\n",
        "2. **min_confidence**: The minimum confidence threshold\n",
        "   - Confidence = P(B|A) = (Support of A and B) / (Support of A)\n",
        "   - We set it to 0.2, meaning if someone buys A, there's at least a 20% chance they'll buy B\n",
        "\n",
        "3. **min_lift**: The minimum lift threshold\n",
        "   - Lift = Confidence / (Support of B)\n",
        "   - Lift > 1 means the rule is better than random chance\n",
        "   - We set it to 3, meaning B is 3 times more likely to be bought when A is bought\n",
        "\n",
        "4. **min_length & max_length**: The size of itemsets to consider\n",
        "   - We focus on pairs (length = 2) to find simple \"A → B\" relationships\n",
        "\n",
        "Let's apply the algorithm:"
      ]
    },
    {
      "cell_type": "code",
      "execution_count": 0,
      "metadata": {
        "colab": {},
        "colab_type": "code",
        "id": "YzIk4vXZsj5i"
      },
      "outputs": [],
      "source": [
        "from apyori import apriori\n",
        "rules = apriori(transactions = transactions, min_support = 0.003, min_confidence = 0.2, min_lift = 3, min_length = 2, max_length = 2)"
      ]
    },
    {
      "cell_type": "markdown",
      "metadata": {},
      "source": [
        "### Applying the Apriori Algorithm\n",
        "\n",
        "We'll import the apriori function and apply it to our transaction data:"
      ]
    },
    {
      "cell_type": "code",
      "execution_count": null,
      "metadata": {},
      "outputs": [],
      "source": [
        "print(\"Applying Apriori algorithm...\")\n",
        "print(\"This may take a moment as we're analyzing\", len(transactions), \"transactions...\")\n",
        "\n",
        "# Apply the Apriori algorithm\n",
        "rules = apriori(\n",
        "    transactions=transactions, \n",
        "    min_support=0.003,      # Item(s) must appear in at least 0.3% of transactions\n",
        "    min_confidence=0.2,     # 20% confidence threshold\n",
        "    min_lift=3,             # 3x better than random chance\n",
        "    min_length=2,           # Consider pairs of items\n",
        "    max_length=2            # Only pairs, not larger groups\n",
        ")\n",
        "\n",
        "print(\"Apriori algorithm completed!\")\n",
        "print(\"Now converting results to a readable format...\")"
      ]
    },
    {
      "cell_type": "markdown",
      "metadata": {
        "colab_type": "text",
        "id": "b176YNwWspiO"
      },
      "source": [
        "## Step 4: Analyzing and Visualizing the Results\n",
        "\n",
        "The Apriori algorithm has found association rules in our data. Now we need to extract and interpret these results.\n",
        "\n",
        "### Understanding the Raw Output\n",
        "\n",
        "The apriori function returns a generator object containing RelationRecord objects. Each record contains:\n",
        "- **Items**: The itemset (products that appear together)\n",
        "- **Support**: How frequently this itemset appears\n",
        "- **Ordered Statistics**: Rules with confidence and lift values\n",
        "\n",
        "Let's first convert the results to a list so we can examine them:"
      ]
    },
    {
      "cell_type": "markdown",
      "metadata": {
        "colab_type": "text",
        "id": "iO6bF_dImT-E"
      },
      "source": [
        "### Displaying the first results coming directly from the output of the apriori function"
      ]
    },
    {
      "cell_type": "code",
      "execution_count": 0,
      "metadata": {
        "colab": {},
        "colab_type": "code",
        "id": "kvF-sLc6ifhd"
      },
      "outputs": [],
      "source": [
        "results = list(rules)"
      ]
    },
    {
      "cell_type": "code",
      "execution_count": null,
      "metadata": {},
      "outputs": [],
      "source": [
        "# Convert the generator to a list\n",
        "results = list(rules)\n",
        "print(f\"Number of association rules found: {len(results)}\")\n",
        "\n",
        "if len(results) > 0:\n",
        "    print(\"\\nFirst rule structure:\")\n",
        "    print(\"Rule:\", results[0])\n",
        "    print(\"\\nLet's examine the components:\")\n",
        "    print(\"Items:\", results[0].items)\n",
        "    print(\"Support:\", results[0].support)\n",
        "    print(\"Ordered Statistics:\", results[0].ordered_statistics)\n",
        "else:\n",
        "    print(\"No rules found with the current parameters. You might need to lower the thresholds.\")"
      ]
    },
    {
      "cell_type": "code",
      "execution_count": 0,
      "metadata": {
        "colab": {
          "base_uri": "https://localhost:8080/",
          "height": 191
        },
        "colab_type": "code",
        "id": "eAD8Co4_l9IE",
        "outputId": "d8523472-b36f-4020-c6fc-01ee3a0d8a86"
      },
      "outputs": [
        {
          "data": {
            "text/plain": [
              "[RelationRecord(items=frozenset({'chicken', 'light cream'}), support=0.004532728969470737, ordered_statistics=[OrderedStatistic(items_base=frozenset({'light cream'}), items_add=frozenset({'chicken'}), confidence=0.29059829059829057, lift=4.84395061728395)]),\n",
              " RelationRecord(items=frozenset({'mushroom cream sauce', 'escalope'}), support=0.005732568990801226, ordered_statistics=[OrderedStatistic(items_base=frozenset({'mushroom cream sauce'}), items_add=frozenset({'escalope'}), confidence=0.3006993006993007, lift=3.790832696715049)]),\n",
              " RelationRecord(items=frozenset({'pasta', 'escalope'}), support=0.005865884548726837, ordered_statistics=[OrderedStatistic(items_base=frozenset({'pasta'}), items_add=frozenset({'escalope'}), confidence=0.3728813559322034, lift=4.700811850163794)]),\n",
              " RelationRecord(items=frozenset({'honey', 'fromage blanc'}), support=0.003332888948140248, ordered_statistics=[OrderedStatistic(items_base=frozenset({'fromage blanc'}), items_add=frozenset({'honey'}), confidence=0.2450980392156863, lift=5.164270764485569)]),\n",
              " RelationRecord(items=frozenset({'ground beef', 'herb & pepper'}), support=0.015997866951073192, ordered_statistics=[OrderedStatistic(items_base=frozenset({'herb & pepper'}), items_add=frozenset({'ground beef'}), confidence=0.3234501347708895, lift=3.2919938411349285)]),\n",
              " RelationRecord(items=frozenset({'tomato sauce', 'ground beef'}), support=0.005332622317024397, ordered_statistics=[OrderedStatistic(items_base=frozenset({'tomato sauce'}), items_add=frozenset({'ground beef'}), confidence=0.3773584905660377, lift=3.840659481324083)]),\n",
              " RelationRecord(items=frozenset({'olive oil', 'light cream'}), support=0.003199573390214638, ordered_statistics=[OrderedStatistic(items_base=frozenset({'light cream'}), items_add=frozenset({'olive oil'}), confidence=0.20512820512820515, lift=3.1147098515519573)]),\n",
              " RelationRecord(items=frozenset({'olive oil', 'whole wheat pasta'}), support=0.007998933475536596, ordered_statistics=[OrderedStatistic(items_base=frozenset({'whole wheat pasta'}), items_add=frozenset({'olive oil'}), confidence=0.2714932126696833, lift=4.122410097642296)]),\n",
              " RelationRecord(items=frozenset({'pasta', 'shrimp'}), support=0.005065991201173177, ordered_statistics=[OrderedStatistic(items_base=frozenset({'pasta'}), items_add=frozenset({'shrimp'}), confidence=0.3220338983050847, lift=4.506672147735896)])]"
            ]
          },
          "execution_count": 6,
          "metadata": {
            "tags": []
          },
          "output_type": "execute_result"
        }
      ],
      "source": [
        "# Display the raw results\n",
        "if len(results) > 0:\n",
        "    print(\"Raw results from Apriori algorithm:\")\n",
        "    for i, result in enumerate(results[:5]):  # Show first 5 results\n",
        "        print(f\"\\nRule {i+1}:\")\n",
        "        print(result)\n",
        "else:\n",
        "    print(\"No association rules found with current parameters.\")\n",
        "    print(\"This might happen if the thresholds are too strict for the dataset.\")\n",
        "    print(\"Consider lowering min_support, min_confidence, or min_lift values.\")"
      ]
    },
    {
      "cell_type": "markdown",
      "metadata": {
        "colab_type": "text",
        "id": "MFkQP-fcjDBC"
      },
      "source": [
        "### Creating a Structured DataFrame\n",
        "\n",
        "The raw output is difficult to read. Let's create a function to extract the important information and organize it into a clear pandas DataFrame.\n",
        "\n",
        "#### What Each Column Means:\n",
        "- **Left Hand Side (LHS)**: The \"if\" part of the rule (antecedent)\n",
        "- **Right Hand Side (RHS)**: The \"then\" part of the rule (consequent)\n",
        "- **Support**: How often both items appear together\n",
        "- **Confidence**: How often the rule is correct (when LHS is bought, RHS is also bought)\n",
        "- **Lift**: How much better this rule is compared to random chance"
      ]
    },
    {
      "cell_type": "code",
      "execution_count": 0,
      "metadata": {
        "colab": {},
        "colab_type": "code",
        "id": "gyq7Poi0mMUe"
      },
      "outputs": [],
      "source": [
        "def inspect(results):\n",
        "    lhs         = [tuple(result[2][0][0])[0] for result in results]\n",
        "    rhs         = [tuple(result[2][0][1])[0] for result in results]\n",
        "    supports    = [result[1] for result in results]\n",
        "    confidences = [result[2][0][2] for result in results]\n",
        "    lifts       = [result[2][0][3] for result in results]\n",
        "    return list(zip(lhs, rhs, supports, confidences, lifts))\n",
        "resultsinDataFrame = pd.DataFrame(inspect(results), columns = ['Left Hand Side', 'Right Hand Side', 'Support', 'Confidence', 'Lift'])"
      ]
    },
    {
      "cell_type": "code",
      "execution_count": null,
      "metadata": {},
      "outputs": [],
      "source": [
        "# Enhanced function to inspect results with better error handling\n",
        "def inspect(results):\n",
        "    \"\"\"\n",
        "    Extract association rule components from apyori results\n",
        "    Returns lists of LHS, RHS, Support, Confidence, and Lift values\n",
        "    \"\"\"\n",
        "    if not results:\n",
        "        return [], [], [], [], []\n",
        "    \n",
        "    lhs = []\n",
        "    rhs = []\n",
        "    supports = []\n",
        "    confidences = []\n",
        "    lifts = []\n",
        "    \n",
        "    for result in results:\n",
        "        # Extract support\n",
        "        supports.append(result.support)\n",
        "        \n",
        "        # Extract ordered statistics (rules)\n",
        "        for rule_stat in result.ordered_statistics:\n",
        "            lhs.append(list(rule_stat.items_base)[0] if rule_stat.items_base else \"\")\n",
        "            rhs.append(list(rule_stat.items_add)[0] if rule_stat.items_add else \"\")\n",
        "            confidences.append(rule_stat.confidence)\n",
        "            lifts.append(rule_stat.lift)\n",
        "    \n",
        "    return list(zip(lhs, rhs, supports[:len(lhs)], confidences, lifts))\n",
        "\n",
        "# Create the DataFrame\n",
        "if len(results) > 0:\n",
        "    resultsinDataFrame = pd.DataFrame(\n",
        "        inspect(results), \n",
        "        columns=['Left Hand Side', 'Right Hand Side', 'Support', 'Confidence', 'Lift']\n",
        "    )\n",
        "    print(f\"Successfully created DataFrame with {len(resultsinDataFrame)} association rules\")\n",
        "else:\n",
        "    print(\"No results to convert to DataFrame\")"
      ]
    },
    {
      "cell_type": "markdown",
      "metadata": {
        "colab_type": "text",
        "id": "Pfn-G1eAjjLz"
      },
      "source": [
        "### Displaying All Association Rules\n",
        "\n",
        "Let's examine all the association rules discovered by our algorithm. Each row represents a rule like \"If customers buy X, then they're likely to also buy Y\"."
      ]
    },
    {
      "cell_type": "code",
      "execution_count": 0,
      "metadata": {
        "colab": {
          "base_uri": "https://localhost:8080/",
          "height": 326
        },
        "colab_type": "code",
        "id": "CmDCcs_6ip9V",
        "outputId": "2170915c-075e-455e-b65b-6ae8d1a62166"
      },
      "outputs": [
        {
          "data": {
            "text/html": [
              "<div>\n",
              "<style scoped>\n",
              "    .dataframe tbody tr th:only-of-type {\n",
              "        vertical-align: middle;\n",
              "    }\n",
              "\n",
              "    .dataframe tbody tr th {\n",
              "        vertical-align: top;\n",
              "    }\n",
              "\n",
              "    .dataframe thead th {\n",
              "        text-align: right;\n",
              "    }\n",
              "</style>\n",
              "<table border=\"1\" class=\"dataframe\">\n",
              "  <thead>\n",
              "    <tr style=\"text-align: right;\">\n",
              "      <th></th>\n",
              "      <th>Left Hand Side</th>\n",
              "      <th>Right Hand Side</th>\n",
              "      <th>Support</th>\n",
              "      <th>Confidence</th>\n",
              "      <th>Lift</th>\n",
              "    </tr>\n",
              "  </thead>\n",
              "  <tbody>\n",
              "    <tr>\n",
              "      <th>0</th>\n",
              "      <td>light cream</td>\n",
              "      <td>chicken</td>\n",
              "      <td>0.004533</td>\n",
              "      <td>0.290598</td>\n",
              "      <td>4.843951</td>\n",
              "    </tr>\n",
              "    <tr>\n",
              "      <th>1</th>\n",
              "      <td>mushroom cream sauce</td>\n",
              "      <td>escalope</td>\n",
              "      <td>0.005733</td>\n",
              "      <td>0.300699</td>\n",
              "      <td>3.790833</td>\n",
              "    </tr>\n",
              "    <tr>\n",
              "      <th>2</th>\n",
              "      <td>pasta</td>\n",
              "      <td>escalope</td>\n",
              "      <td>0.005866</td>\n",
              "      <td>0.372881</td>\n",
              "      <td>4.700812</td>\n",
              "    </tr>\n",
              "    <tr>\n",
              "      <th>3</th>\n",
              "      <td>fromage blanc</td>\n",
              "      <td>honey</td>\n",
              "      <td>0.003333</td>\n",
              "      <td>0.245098</td>\n",
              "      <td>5.164271</td>\n",
              "    </tr>\n",
              "    <tr>\n",
              "      <th>4</th>\n",
              "      <td>herb &amp; pepper</td>\n",
              "      <td>ground beef</td>\n",
              "      <td>0.015998</td>\n",
              "      <td>0.323450</td>\n",
              "      <td>3.291994</td>\n",
              "    </tr>\n",
              "    <tr>\n",
              "      <th>5</th>\n",
              "      <td>tomato sauce</td>\n",
              "      <td>ground beef</td>\n",
              "      <td>0.005333</td>\n",
              "      <td>0.377358</td>\n",
              "      <td>3.840659</td>\n",
              "    </tr>\n",
              "    <tr>\n",
              "      <th>6</th>\n",
              "      <td>light cream</td>\n",
              "      <td>olive oil</td>\n",
              "      <td>0.003200</td>\n",
              "      <td>0.205128</td>\n",
              "      <td>3.114710</td>\n",
              "    </tr>\n",
              "    <tr>\n",
              "      <th>7</th>\n",
              "      <td>whole wheat pasta</td>\n",
              "      <td>olive oil</td>\n",
              "      <td>0.007999</td>\n",
              "      <td>0.271493</td>\n",
              "      <td>4.122410</td>\n",
              "    </tr>\n",
              "    <tr>\n",
              "      <th>8</th>\n",
              "      <td>pasta</td>\n",
              "      <td>shrimp</td>\n",
              "      <td>0.005066</td>\n",
              "      <td>0.322034</td>\n",
              "      <td>4.506672</td>\n",
              "    </tr>\n",
              "  </tbody>\n",
              "</table>\n",
              "</div>"
            ],
            "text/plain": [
              "         Left Hand Side Right Hand Side   Support  Confidence      Lift\n",
              "0           light cream         chicken  0.004533    0.290598  4.843951\n",
              "1  mushroom cream sauce        escalope  0.005733    0.300699  3.790833\n",
              "2                 pasta        escalope  0.005866    0.372881  4.700812\n",
              "3         fromage blanc           honey  0.003333    0.245098  5.164271\n",
              "4         herb & pepper     ground beef  0.015998    0.323450  3.291994\n",
              "5          tomato sauce     ground beef  0.005333    0.377358  3.840659\n",
              "6           light cream       olive oil  0.003200    0.205128  3.114710\n",
              "7     whole wheat pasta       olive oil  0.007999    0.271493  4.122410\n",
              "8                 pasta          shrimp  0.005066    0.322034  4.506672"
            ]
          },
          "execution_count": 8,
          "metadata": {
            "tags": []
          },
          "output_type": "execute_result"
        }
      ],
      "source": [
        "resultsinDataFrame"
      ]
    },
    {
      "cell_type": "code",
      "execution_count": null,
      "metadata": {},
      "outputs": [],
      "source": [
        "# Display the results with better formatting\n",
        "if 'resultsinDataFrame' in locals() and not resultsinDataFrame.empty:\n",
        "    print(\"Association Rules Found:\")\n",
        "    print(\"=\" * 80)\n",
        "    \n",
        "    # Format the display for better readability\n",
        "    pd.set_option('display.max_columns', None)\n",
        "    pd.set_option('display.width', None)\n",
        "    pd.set_option('display.max_colwidth', 30)\n",
        "    \n",
        "    display_df = resultsinDataFrame.copy()\n",
        "    display_df['Support'] = display_df['Support'].round(4)\n",
        "    display_df['Confidence'] = display_df['Confidence'].round(4)\n",
        "    display_df['Lift'] = display_df['Lift'].round(2)\n",
        "    \n",
        "    print(display_df)\n",
        "    \n",
        "    print(f\"\\nSummary:\")\n",
        "    print(f\"Total rules found: {len(resultsinDataFrame)}\")\n",
        "    print(f\"Average confidence: {resultsinDataFrame['Confidence'].mean():.3f}\")\n",
        "    print(f\"Average lift: {resultsinDataFrame['Lift'].mean():.2f}\")\n",
        "else:\n",
        "    print(\"No association rules found or DataFrame not created.\")"
      ]
    },
    {
      "cell_type": "markdown",
      "metadata": {
        "colab_type": "text",
        "id": "IjrrlYW4jpTR"
      },
      "source": [
        "### Top Association Rules by Lift\n",
        "\n",
        "Lift is often the most important metric because it tells us how much better a rule performs compared to random chance. Let's look at the top rules sorted by lift value.\n",
        "\n",
        "#### Interpreting Lift Values:\n",
        "- **Lift = 1**: The rule performs no better than random chance\n",
        "- **Lift > 1**: Positive correlation - items appear together more often than expected\n",
        "- **Lift < 1**: Negative correlation - items appear together less often than expected\n",
        "- **Higher lift values**: Stronger associations\n",
        "\n",
        "Let's examine the top 10 rules with the highest lift:"
      ]
    },
    {
      "cell_type": "code",
      "execution_count": 0,
      "metadata": {
        "colab": {
          "base_uri": "https://localhost:8080/",
          "height": 326
        },
        "colab_type": "code",
        "id": "nI7DJXng-nxQ",
        "outputId": "aac84e87-eb2a-4428-cf55-1c16d23ea3ed"
      },
      "outputs": [
        {
          "data": {
            "text/html": [
              "<div>\n",
              "<style scoped>\n",
              "    .dataframe tbody tr th:only-of-type {\n",
              "        vertical-align: middle;\n",
              "    }\n",
              "\n",
              "    .dataframe tbody tr th {\n",
              "        vertical-align: top;\n",
              "    }\n",
              "\n",
              "    .dataframe thead th {\n",
              "        text-align: right;\n",
              "    }\n",
              "</style>\n",
              "<table border=\"1\" class=\"dataframe\">\n",
              "  <thead>\n",
              "    <tr style=\"text-align: right;\">\n",
              "      <th></th>\n",
              "      <th>Left Hand Side</th>\n",
              "      <th>Right Hand Side</th>\n",
              "      <th>Support</th>\n",
              "      <th>Confidence</th>\n",
              "      <th>Lift</th>\n",
              "    </tr>\n",
              "  </thead>\n",
              "  <tbody>\n",
              "    <tr>\n",
              "      <th>3</th>\n",
              "      <td>fromage blanc</td>\n",
              "      <td>honey</td>\n",
              "      <td>0.003333</td>\n",
              "      <td>0.245098</td>\n",
              "      <td>5.164271</td>\n",
              "    </tr>\n",
              "    <tr>\n",
              "      <th>0</th>\n",
              "      <td>light cream</td>\n",
              "      <td>chicken</td>\n",
              "      <td>0.004533</td>\n",
              "      <td>0.290598</td>\n",
              "      <td>4.843951</td>\n",
              "    </tr>\n",
              "    <tr>\n",
              "      <th>2</th>\n",
              "      <td>pasta</td>\n",
              "      <td>escalope</td>\n",
              "      <td>0.005866</td>\n",
              "      <td>0.372881</td>\n",
              "      <td>4.700812</td>\n",
              "    </tr>\n",
              "    <tr>\n",
              "      <th>8</th>\n",
              "      <td>pasta</td>\n",
              "      <td>shrimp</td>\n",
              "      <td>0.005066</td>\n",
              "      <td>0.322034</td>\n",
              "      <td>4.506672</td>\n",
              "    </tr>\n",
              "    <tr>\n",
              "      <th>7</th>\n",
              "      <td>whole wheat pasta</td>\n",
              "      <td>olive oil</td>\n",
              "      <td>0.007999</td>\n",
              "      <td>0.271493</td>\n",
              "      <td>4.122410</td>\n",
              "    </tr>\n",
              "    <tr>\n",
              "      <th>5</th>\n",
              "      <td>tomato sauce</td>\n",
              "      <td>ground beef</td>\n",
              "      <td>0.005333</td>\n",
              "      <td>0.377358</td>\n",
              "      <td>3.840659</td>\n",
              "    </tr>\n",
              "    <tr>\n",
              "      <th>1</th>\n",
              "      <td>mushroom cream sauce</td>\n",
              "      <td>escalope</td>\n",
              "      <td>0.005733</td>\n",
              "      <td>0.300699</td>\n",
              "      <td>3.790833</td>\n",
              "    </tr>\n",
              "    <tr>\n",
              "      <th>4</th>\n",
              "      <td>herb &amp; pepper</td>\n",
              "      <td>ground beef</td>\n",
              "      <td>0.015998</td>\n",
              "      <td>0.323450</td>\n",
              "      <td>3.291994</td>\n",
              "    </tr>\n",
              "    <tr>\n",
              "      <th>6</th>\n",
              "      <td>light cream</td>\n",
              "      <td>olive oil</td>\n",
              "      <td>0.003200</td>\n",
              "      <td>0.205128</td>\n",
              "      <td>3.114710</td>\n",
              "    </tr>\n",
              "  </tbody>\n",
              "</table>\n",
              "</div>"
            ],
            "text/plain": [
              "         Left Hand Side Right Hand Side   Support  Confidence      Lift\n",
              "3         fromage blanc           honey  0.003333    0.245098  5.164271\n",
              "0           light cream         chicken  0.004533    0.290598  4.843951\n",
              "2                 pasta        escalope  0.005866    0.372881  4.700812\n",
              "8                 pasta          shrimp  0.005066    0.322034  4.506672\n",
              "7     whole wheat pasta       olive oil  0.007999    0.271493  4.122410\n",
              "5          tomato sauce     ground beef  0.005333    0.377358  3.840659\n",
              "1  mushroom cream sauce        escalope  0.005733    0.300699  3.790833\n",
              "4         herb & pepper     ground beef  0.015998    0.323450  3.291994\n",
              "6           light cream       olive oil  0.003200    0.205128  3.114710"
            ]
          },
          "execution_count": 9,
          "metadata": {
            "tags": []
          },
          "output_type": "execute_result"
        }
      ],
      "source": [
        "resultsinDataFrame.nlargest(n = 10, columns = 'Lift')"
      ]
    },
    {
      "cell_type": "code",
      "execution_count": null,
      "metadata": {},
      "outputs": [],
      "source": [
        "# Display top rules by lift with detailed analysis\n",
        "if 'resultsinDataFrame' in locals() and not resultsinDataFrame.empty:\n",
        "    print(\"TOP 10 ASSOCIATION RULES BY LIFT\")\n",
        "    print(\"=\" * 50)\n",
        "    \n",
        "    top_rules = resultsinDataFrame.nlargest(n=10, columns='Lift')\n",
        "    \n",
        "    # Format for better display\n",
        "    for idx, (index, rule) in enumerate(top_rules.iterrows(), 1):\n",
        "        print(f\"\\n{idx}. Rule: '{rule['Left Hand Side']}' → '{rule['Right Hand Side']}'\")\n",
        "        print(f\"   Support: {rule['Support']:.4f} ({rule['Support']*len(transactions):.0f} transactions)\")\n",
        "        print(f\"   Confidence: {rule['Confidence']:.4f} ({rule['Confidence']*100:.1f}%)\")\n",
        "        print(f\"   Lift: {rule['Lift']:.2f} (>{rule['Lift']:.1f}x better than random)\")\n",
        "        \n",
        "        # Business interpretation\n",
        "        if rule['Lift'] > 3:\n",
        "            strength = \"Very Strong\"\n",
        "        elif rule['Lift'] > 2:\n",
        "            strength = \"Strong\"\n",
        "        else:\n",
        "            strength = \"Moderate\"\n",
        "            \n",
        "        print(f\"   Interpretation: {strength} association - customers who buy\")\n",
        "        print(f\"   '{rule['Left Hand Side']}' are {rule['Lift']:.1f}x more likely to also buy '{rule['Right Hand Side']}'\")\n",
        "    \n",
        "    print(f\"\\nDataFrame sorted by Lift (top 10):\")\n",
        "    display(top_rules)\n",
        "    \n",
        "else:\n",
        "    print(\"No rules available to sort by lift.\")"
      ]
    },
    {
      "cell_type": "markdown",
      "metadata": {},
      "source": [
        "## Step 5: Business Insights and Recommendations\n",
        "\n",
        "Based on our association rule analysis, we can derive several actionable business insights:\n",
        "\n",
        "### Key Findings:\n",
        "\n",
        "1. **Product Placement**: Items with high lift values should be placed near each other in the store\n",
        "2. **Cross-selling Opportunities**: Train sales staff to recommend the \"Right Hand Side\" items when customers show interest in \"Left Hand Side\" items\n",
        "3. **Bundle Promotions**: Create product bundles based on the strongest associations\n",
        "4. **Inventory Management**: Ensure adequate stock of both items in strong association pairs\n",
        "5. **Marketing Campaigns**: Design targeted campaigns promoting complementary products\n",
        "\n",
        "### Parameter Sensitivity:\n",
        "\n",
        "Our current parameters were:\n",
        "- **min_support = 0.003**: Items must appear in at least 0.3% of transactions\n",
        "- **min_confidence = 0.2**: Rules must be correct at least 20% of the time  \n",
        "- **min_lift = 3**: Associations must be 3x better than random chance\n",
        "\n",
        "### Next Steps:\n",
        "\n",
        "1. **Experiment with Parameters**: Try different thresholds to find more or fewer rules\n",
        "2. **Seasonal Analysis**: Run this analysis on different time periods to find seasonal patterns\n",
        "3. **Customer Segmentation**: Apply association rules to different customer segments\n",
        "4. **Implementation**: Use these insights to optimize store layout and marketing strategies\n",
        "\n",
        "### Technical Notes:\n",
        "\n",
        "- The Apriori algorithm scales with the number of transactions and unique items\n",
        "- For larger datasets, consider using more efficient algorithms like FP-Growth\n",
        "- Regular reanalysis is recommended as customer behavior patterns change over time"
      ]
    }
  ],
  "metadata": {
    "colab": {
      "collapsed_sections": [],
      "name": "apriori.ipynb",
      "provenance": [],
      "toc_visible": true
    },
    "kernelspec": {
      "display_name": "Python 3",
      "name": "python3"
    }
  },
  "nbformat": 4,
  "nbformat_minor": 0
}
